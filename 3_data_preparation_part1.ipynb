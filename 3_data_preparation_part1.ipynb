{
 "cells": [
  {
   "cell_type": "code",
   "execution_count": null,
   "metadata": {
    "id": "pzImNeOjy4jZ"
   },
   "outputs": [],
   "source": [
    "'''# mount drive\n",
    "from google.colab import drive\n",
    "drive.mount('/content/drive')'''"
   ]
  },
  {
   "cell_type": "code",
   "execution_count": null,
   "metadata": {},
   "outputs": [],
   "source": [
    "'''# move directory\n",
    "import os\n",
    "colab_dir = \"./drive/MyDrive/\"\n",
    "os.chdir(colab_dir)'''"
   ]
  },
  {
   "cell_type": "code",
   "execution_count": 1,
   "metadata": {
    "ExecuteTime": {
     "end_time": "2024-10-18T17:58:56.473714600Z",
     "start_time": "2024-10-18T17:58:56.455667800Z"
    }
   },
   "outputs": [],
   "source": [
    "# import libraries\n",
    "import pandas as pd\n",
    "import numpy as np\n",
    "import seaborn as sns\n",
    "import matplotlib.pyplot as plt\n",
    "import matplotlib_inline\n",
    "%matplotlib inline"
   ]
  },
  {
   "cell_type": "code",
   "execution_count": 2,
   "metadata": {
    "ExecuteTime": {
     "end_time": "2024-10-18T17:58:56.485683700Z",
     "start_time": "2024-10-18T17:58:56.473714600Z"
    }
   },
   "outputs": [],
   "source": [
    "# set random seed\n",
    "import random\n",
    "random.seed(335)"
   ]
  },
  {
   "cell_type": "code",
   "execution_count": 3,
   "metadata": {
    "ExecuteTime": {
     "end_time": "2024-10-18T17:58:56.515683500Z",
     "start_time": "2024-10-18T17:58:56.485683700Z"
    }
   },
   "outputs": [],
   "source": [
    "# magic word\n",
    "pd.set_option('display.max_rows', 500)\n",
    "pd.set_option('display.max_columns', 500)"
   ]
  },
  {
   "cell_type": "code",
   "execution_count": 4,
   "metadata": {
    "ExecuteTime": {
     "end_time": "2024-10-18T17:58:57.431169800Z",
     "start_time": "2024-10-18T17:58:57.412805500Z"
    }
   },
   "outputs": [],
   "source": [
    "# for better viz\n",
    "import pprint\n",
    "import warnings\n",
    "warnings.filterwarnings('ignore')"
   ]
  },
  {
   "cell_type": "markdown",
   "metadata": {},
   "source": [
    "### reference\n",
    "-------------------\n",
    "\n",
    "- [pandas cheat sheet](https://github.com/pandas-dev/pandas/tree/master/doc/cheatsheet)\n",
    "- [numpy cheat sheet(data camp)](https://www.datacamp.com/community/blog/python-numpy-cheat-sheet)\n",
    "- [scikit-learn cheat sheet(data camp)](datacamp.com/community/blog/scikit-learn-cheat-sheet)"
   ]
  },
  {
   "cell_type": "markdown",
   "metadata": {
    "id": "_RbelOPK4TFB"
   },
   "source": [
    "# data preparation\n",
    "---------------------\n",
    "The data preparation phase covers all activities to construct the final dataset (data that will be fed into the modeling tool(s)) from the initial raw data. Data preparation tasks are likely to be performed multiple times and not in any prescribed order. Tasks include table, record and attribute selection as well as transformation and cleaning of data for modeling tools."
   ]
  },
  {
   "cell_type": "markdown",
   "metadata": {
    "id": "Wfrdzmhe0Zfr"
   },
   "source": [
    "## select data\n",
    "----------\n",
    "\n",
    "### output\n",
    "\n",
    "I removed a significant portion of the features to avoid any potential data leakage. The columns WHEELS_OFF, WHEELS_ON, AIR_TIME, DEP_DELAY, DEP_TIME, DELAY_DUE_{SOMETHING}, TAXI_OUT and TAXI_IN became known gradually during the flight. Metadata about the airline was removed due to redundancy (we are working with a specific airline). Information about flight cancellations and delays would not provide useful insights, as it usually becomes known just before the flight, and using it for long-term predictions would be erroneous. As a result, the remaining data pertains to airport locations and flight plans (distances, expected duration, and scheduled takeoff and landing times). ARR_DELAY was saved as target variable.\n",
    "\n",
    "From airports dataset I delete all above latitude and longitude."
   ]
  },
  {
   "cell_type": "code",
   "execution_count": 18,
   "outputs": [],
   "source": [
    "import pandas as pd\n",
    "df_flights = pd.read_csv('Data/ALL_FLIGHTS_2021_2023.csv')\n",
    "df_airports = pd.read_csv('Data/airports.csv')"
   ],
   "metadata": {
    "collapsed": false,
    "ExecuteTime": {
     "end_time": "2024-10-18T18:29:22.693477900Z",
     "start_time": "2024-10-18T18:28:34.556023500Z"
    }
   }
  },
  {
   "cell_type": "code",
   "execution_count": 19,
   "metadata": {
    "id": "CXvyZaSTZP0h",
    "ExecuteTime": {
     "end_time": "2024-10-18T18:29:48.715965300Z",
     "start_time": "2024-10-18T18:29:47.598986Z"
    }
   },
   "outputs": [],
   "source": [
    "df_south= df_flights.loc[(df_flights.AIRLINE == 'Southwest Airlines Co.') & (df_flights.CANCELLED == 0)]\n",
    "# remove unnncesary columns\n",
    "columns = ['AIRLINE_CODE', 'AIRLINE_DOT', 'DOT_CODE', 'FL_NUMBER', 'ORIGIN_CITY', 'DEST_CITY', \n",
    "           'WHEELS_OFF', 'WHEELS_ON', 'ARR_TIME', 'CANCELLED', 'CANCELLATION_CODE', 'DIVERTED', 'AIR_TIME',\n",
    "           'DELAY_DUE_CARRIER', 'DELAY_DUE_WEATHER', 'DELAY_DUE_NAS', 'DELAY_DUE_SECURITY', 'DELAY_DUE_LATE_AIRCRAFT', 'ELAPSED_TIME',\n",
    "           'TAXI_IN', 'WHEELS_OFF', 'WHEELS_ON', 'DEP_TIME', 'DEP_DELAY'] # remove no columns if array is empty\n",
    "df = df_south.drop(columns=columns, axis=1)"
   ]
  },
  {
   "cell_type": "code",
   "execution_count": 29,
   "outputs": [],
   "source": [
    "columns = ['AIRPORT', 'CITY', 'STATE', 'COUNTRY']\n",
    "airports = df_airports.drop(columns=columns, axis=1)"
   ],
   "metadata": {
    "collapsed": false,
    "ExecuteTime": {
     "end_time": "2024-10-18T18:44:29.788948Z",
     "start_time": "2024-10-18T18:44:29.752888100Z"
    }
   }
  },
  {
   "cell_type": "markdown",
   "source": [
    "## clean data\n",
    "------------------\n"
   ],
   "metadata": {
    "collapsed": false
   }
  },
  {
   "cell_type": "code",
   "execution_count": 30,
   "outputs": [
    {
     "data": {
      "text/plain": "  IATA   LATITUDE   LONGITUDE\n0  ABQ  35.040222 -106.609194\n1  ANC  61.174320 -149.996186\n2  ATL  33.640444  -84.426944\n3  AUS  30.194533  -97.669872\n4  BDL  41.938874  -72.683228",
      "text/html": "<div>\n<style scoped>\n    .dataframe tbody tr th:only-of-type {\n        vertical-align: middle;\n    }\n\n    .dataframe tbody tr th {\n        vertical-align: top;\n    }\n\n    .dataframe thead th {\n        text-align: right;\n    }\n</style>\n<table border=\"1\" class=\"dataframe\">\n  <thead>\n    <tr style=\"text-align: right;\">\n      <th></th>\n      <th>IATA</th>\n      <th>LATITUDE</th>\n      <th>LONGITUDE</th>\n    </tr>\n  </thead>\n  <tbody>\n    <tr>\n      <th>0</th>\n      <td>ABQ</td>\n      <td>35.040222</td>\n      <td>-106.609194</td>\n    </tr>\n    <tr>\n      <th>1</th>\n      <td>ANC</td>\n      <td>61.174320</td>\n      <td>-149.996186</td>\n    </tr>\n    <tr>\n      <th>2</th>\n      <td>ATL</td>\n      <td>33.640444</td>\n      <td>-84.426944</td>\n    </tr>\n    <tr>\n      <th>3</th>\n      <td>AUS</td>\n      <td>30.194533</td>\n      <td>-97.669872</td>\n    </tr>\n    <tr>\n      <th>4</th>\n      <td>BDL</td>\n      <td>41.938874</td>\n      <td>-72.683228</td>\n    </tr>\n  </tbody>\n</table>\n</div>"
     },
     "execution_count": 30,
     "metadata": {},
     "output_type": "execute_result"
    }
   ],
   "source": [
    "airports.head()"
   ],
   "metadata": {
    "collapsed": false,
    "ExecuteTime": {
     "end_time": "2024-10-18T18:44:32.601064300Z",
     "start_time": "2024-10-18T18:44:32.564394100Z"
    }
   }
  },
  {
   "cell_type": "code",
   "execution_count": 20,
   "outputs": [
    {
     "data": {
      "text/plain": "         FL_DATE                 AIRLINE ORIGIN DEST  CRS_DEP_TIME  TAXI_OUT  \\\n106   2021-01-01  Southwest Airlines Co.    BWI  BNA          1255       9.0   \n1364  2021-01-01  Southwest Airlines Co.    ATL  MCI          1635      12.0   \n1365  2021-01-01  Southwest Airlines Co.    ATL  BWI          1200       8.0   \n1366  2021-01-01  Southwest Airlines Co.    ATL  BWI          1725      13.0   \n1367  2021-01-01  Southwest Airlines Co.    ATL  LGA          1950      14.0   \n\n      CRS_ARR_TIME  ARR_DELAY  CRS_ELAPSED_TIME  DISTANCE  \n106           1355       -8.0             120.0     587.0  \n1364          1750       -2.0             135.0     692.0  \n1365          1345      -14.0             105.0     577.0  \n1366          1905       23.0             100.0     577.0  \n1367          2205        9.0             135.0     762.0  ",
      "text/html": "<div>\n<style scoped>\n    .dataframe tbody tr th:only-of-type {\n        vertical-align: middle;\n    }\n\n    .dataframe tbody tr th {\n        vertical-align: top;\n    }\n\n    .dataframe thead th {\n        text-align: right;\n    }\n</style>\n<table border=\"1\" class=\"dataframe\">\n  <thead>\n    <tr style=\"text-align: right;\">\n      <th></th>\n      <th>FL_DATE</th>\n      <th>AIRLINE</th>\n      <th>ORIGIN</th>\n      <th>DEST</th>\n      <th>CRS_DEP_TIME</th>\n      <th>TAXI_OUT</th>\n      <th>CRS_ARR_TIME</th>\n      <th>ARR_DELAY</th>\n      <th>CRS_ELAPSED_TIME</th>\n      <th>DISTANCE</th>\n    </tr>\n  </thead>\n  <tbody>\n    <tr>\n      <th>106</th>\n      <td>2021-01-01</td>\n      <td>Southwest Airlines Co.</td>\n      <td>BWI</td>\n      <td>BNA</td>\n      <td>1255</td>\n      <td>9.0</td>\n      <td>1355</td>\n      <td>-8.0</td>\n      <td>120.0</td>\n      <td>587.0</td>\n    </tr>\n    <tr>\n      <th>1364</th>\n      <td>2021-01-01</td>\n      <td>Southwest Airlines Co.</td>\n      <td>ATL</td>\n      <td>MCI</td>\n      <td>1635</td>\n      <td>12.0</td>\n      <td>1750</td>\n      <td>-2.0</td>\n      <td>135.0</td>\n      <td>692.0</td>\n    </tr>\n    <tr>\n      <th>1365</th>\n      <td>2021-01-01</td>\n      <td>Southwest Airlines Co.</td>\n      <td>ATL</td>\n      <td>BWI</td>\n      <td>1200</td>\n      <td>8.0</td>\n      <td>1345</td>\n      <td>-14.0</td>\n      <td>105.0</td>\n      <td>577.0</td>\n    </tr>\n    <tr>\n      <th>1366</th>\n      <td>2021-01-01</td>\n      <td>Southwest Airlines Co.</td>\n      <td>ATL</td>\n      <td>BWI</td>\n      <td>1725</td>\n      <td>13.0</td>\n      <td>1905</td>\n      <td>23.0</td>\n      <td>100.0</td>\n      <td>577.0</td>\n    </tr>\n    <tr>\n      <th>1367</th>\n      <td>2021-01-01</td>\n      <td>Southwest Airlines Co.</td>\n      <td>ATL</td>\n      <td>LGA</td>\n      <td>1950</td>\n      <td>14.0</td>\n      <td>2205</td>\n      <td>9.0</td>\n      <td>135.0</td>\n      <td>762.0</td>\n    </tr>\n  </tbody>\n</table>\n</div>"
     },
     "execution_count": 20,
     "metadata": {},
     "output_type": "execute_result"
    }
   ],
   "source": [
    "df.head()"
   ],
   "metadata": {
    "collapsed": false,
    "ExecuteTime": {
     "end_time": "2024-10-18T18:29:49.862511700Z",
     "start_time": "2024-10-18T18:29:49.835745100Z"
    }
   }
  },
  {
   "cell_type": "code",
   "execution_count": 21,
   "metadata": {
    "id": "WLLTAm40Y1mT",
    "ExecuteTime": {
     "end_time": "2024-10-18T18:29:54.408427600Z",
     "start_time": "2024-10-18T18:29:54.138038900Z"
    }
   },
   "outputs": [
    {
     "data": {
      "text/plain": "FL_DATE                0\nAIRLINE                0\nORIGIN                 0\nDEST                   0\nCRS_DEP_TIME           0\nTAXI_OUT               0\nCRS_ARR_TIME           0\nARR_DELAY           7297\nCRS_ELAPSED_TIME       0\nDISTANCE               0\ndtype: int64"
     },
     "execution_count": 21,
     "metadata": {},
     "output_type": "execute_result"
    }
   ],
   "source": [
    "df.isnull().sum()"
   ]
  },
  {
   "cell_type": "code",
   "execution_count": 23,
   "outputs": [],
   "source": [
    "df = df.dropna()"
   ],
   "metadata": {
    "collapsed": false,
    "ExecuteTime": {
     "end_time": "2024-10-18T18:30:55.447698600Z",
     "start_time": "2024-10-18T18:30:55.035837Z"
    }
   }
  },
  {
   "cell_type": "code",
   "execution_count": 24,
   "outputs": [
    {
     "data": {
      "text/plain": "FL_DATE             0\nAIRLINE             0\nORIGIN              0\nDEST                0\nCRS_DEP_TIME        0\nTAXI_OUT            0\nCRS_ARR_TIME        0\nARR_DELAY           0\nCRS_ELAPSED_TIME    0\nDISTANCE            0\ndtype: int64"
     },
     "execution_count": 24,
     "metadata": {},
     "output_type": "execute_result"
    }
   ],
   "source": [
    "df.isnull().sum()"
   ],
   "metadata": {
    "collapsed": false,
    "ExecuteTime": {
     "end_time": "2024-10-18T18:31:02.034816300Z",
     "start_time": "2024-10-18T18:31:01.980779400Z"
    }
   }
  },
  {
   "cell_type": "code",
   "execution_count": 26,
   "metadata": {
    "ExecuteTime": {
     "end_time": "2024-10-18T18:39:21.454997900Z",
     "start_time": "2024-10-18T18:39:20.184585600Z"
    }
   },
   "outputs": [],
   "source": [
    "df = df.drop_duplicates()"
   ]
  },
  {
   "cell_type": "code",
   "execution_count": null,
   "outputs": [],
   "source": [
    "df.to_csv('southwest_clean.csv', index=False)\n",
    "airports.to_csv('airports_data.csv', index=False)"
   ],
   "metadata": {
    "collapsed": false
   }
  },
  {
   "cell_type": "markdown",
   "source": [
    "## All later preparation stages will be in second part of notebook, due to Big Data (for which retake I did same project) constraints"
   ],
   "metadata": {
    "collapsed": false
   }
  }
 ],
 "metadata": {
  "colab": {
   "authorship_tag": "ABX9TyO4GUHftfWUo3XWB1we4Tz5",
   "collapsed_sections": [],
   "name": "data-preparation.ipynb",
   "provenance": []
  },
  "kernelspec": {
   "display_name": "Python 3",
   "language": "python",
   "name": "python3"
  },
  "language_info": {
   "codemirror_mode": {
    "name": "ipython",
    "version": 3
   },
   "file_extension": ".py",
   "mimetype": "text/x-python",
   "name": "python",
   "nbconvert_exporter": "python",
   "pygments_lexer": "ipython3",
   "version": "3.8.5"
  }
 },
 "nbformat": 4,
 "nbformat_minor": 1
}
