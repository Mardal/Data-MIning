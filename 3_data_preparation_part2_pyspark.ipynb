{
 "cells": [
  {
   "cell_type": "markdown",
   "source": [
    "# Data preparation, part 2\n",
    "Markdowns added later, after using it in Big Data project. Also, original notebook splitted into two different parts: data preparation and modelin. At the start of this notebook prepared data lies in three tables:\n",
    "1. Flights_data, that contain filtered by nulls data only about Southwest airlines, but with all columns. All columns, that was dropped in previous part will be dropped here too\n",
    "2. Routes_data, contains info routes id as ORIGIN->DESTINATION. Not useful except for better containing in database\n",
    "3. Airports_data with IATA and latitude/longitude\n",
    "\n",
    "## Data integration\n",
    "Load data:"
   ],
   "metadata": {
    "collapsed": false
   },
   "id": "86399e0ed08f9525"
  },
  {
   "cell_type": "code",
   "execution_count": 3,
   "outputs": [
    {
     "name": "stdout",
     "output_type": "stream",
     "text": [
      "+--------------------+\n",
      "|           namespace|\n",
      "+--------------------+\n",
      "|             default|\n",
      "|             root_db|\n",
      "|     team0_projectdb|\n",
      "|team12_hive_proje...|\n",
      "|    team13_projectdb|\n",
      "|    team14_projectdb|\n",
      "|    team15_projectdb|\n",
      "|    team16_projectdb|\n",
      "|    team17_projectdb|\n",
      "|    team18_projectdb|\n",
      "|    team19_projectdb|\n",
      "|     team1_projectdb|\n",
      "|    team20_projectdb|\n",
      "|    team21_projectdb|\n",
      "|    team22_projectdb|\n",
      "|    team23_projectdb|\n",
      "|    team24_projectdb|\n",
      "|    team25_projectdb|\n",
      "|    team26_projectdb|\n",
      "|    team27_projectdb|\n",
      "+--------------------+\n",
      "only showing top 20 rows\n",
      "\n",
      "++\n",
      "||\n",
      "++\n",
      "++\n",
      "\n",
      "+----------------+--------------------+-----------+\n",
      "|       namespace|           tableName|isTemporary|\n",
      "+----------------+--------------------+-----------+\n",
      "|team37_projectdb|       airports_data|      false|\n",
      "|team37_projectdb|  airports_data_load|      false|\n",
      "|team37_projectdb|         flight_data|      false|\n",
      "|team37_projectdb|flight_data_bucketed|      false|\n",
      "|team37_projectdb|          q1_results|      false|\n",
      "|team37_projectdb|          q2_results|      false|\n",
      "|team37_projectdb|          q3_results|      false|\n",
      "|team37_projectdb|          q4_results|      false|\n",
      "|team37_projectdb|          q5_results|      false|\n",
      "|team37_projectdb|          route_data|      false|\n",
      "|team37_projectdb|route_data_partit...|      false|\n",
      "+----------------+--------------------+-----------+\n",
      "\n",
      "+----------+--------+---------+------------+--------+---------+--------+----------+---------+-------+------------+--------+---------+---------+-----------------+--------+----------------+------------+--------+------+--------+\n",
      "|   fl_date|dot_code|fl_number|crs_dep_time|dep_time|dep_delay|taxi_out|wheels_off|wheels_on|taxi_in|crs_arr_time|arr_time|arr_delay|cancelled|cancellation_code|diverted|crs_elapsed_time|elapsed_time|air_time|    id|route_id|\n",
      "+----------+--------+---------+------------+--------+---------+--------+----------+---------+-------+------------+--------+---------+---------+-----------------+--------+----------------+------------+--------+------+--------+\n",
      "|2021-06-08|   19393|     5448|        1100|  1120.0|     20.0|    12.0|    1132.0|   1153.0|    3.0|        1145|  1156.0|     11.0|      0.0|                N|     0.0|           105.0|        96.0|    81.0|624813|     407|\n",
      "|2021-06-08|   19393|     2427|        1705|  1703.0|     -2.0|     9.0|    1712.0|   1732.0|    4.0|        1750|  1736.0|    -14.0|      0.0|                N|     0.0|           105.0|        93.0|    80.0|624810|     407|\n",
      "|2021-06-08|   19393|     2387|        1130|  1127.0|     -3.0|    14.0|    1141.0|   1305.0|    5.0|        1315|  1310.0|     -5.0|      0.0|                N|     0.0|           165.0|       163.0|   144.0|624735|     963|\n",
      "|2021-06-08|   19393|     3751|         635|   635.0|      0.0|    11.0|     646.0|   1031.0|    5.0|        1040|  1036.0|     -4.0|      0.0|                N|     0.0|           185.0|       181.0|   165.0|624590|    1206|\n",
      "|2021-06-08|   19393|     5537|         615|   616.0|      1.0|     6.0|     622.0|    811.0|    7.0|         830|   818.0|    -12.0|      0.0|                N|     0.0|           255.0|       242.0|   229.0|624587|     362|\n",
      "|2021-06-08|   19393|     5140|        2130|  2221.0|     51.0|    13.0|    2234.0|     26.0|    4.0|        2345|    30.0|     45.0|      0.0|                N|     0.0|           255.0|       249.0|   232.0|624585|     362|\n",
      "|2021-06-08|   19393|     3822|        1805|  1839.0|     34.0|    17.0|    1856.0|   2045.0|    6.0|        2020|  2051.0|     31.0|      0.0|                N|     0.0|           255.0|       252.0|   229.0|624584|     362|\n",
      "|2021-06-08|   19393|     4306|        1930|  1933.0|      3.0|    10.0|    1943.0|   2043.0|   26.0|        2100|  2109.0|      9.0|      0.0|                N|     0.0|           150.0|       156.0|   120.0|624479|     391|\n",
      "|2021-06-08|   19393|     2652|         625|   620.0|     -5.0|    16.0|     636.0|   1054.0|    4.0|        1125|  1058.0|    -27.0|      0.0|                N|     0.0|           180.0|       158.0|   138.0|624439|    1118|\n",
      "|2021-06-08|   19393|     3500|        1620|  1646.0|     26.0|     9.0|    1655.0|   1743.0|    7.0|        1735|  1750.0|     15.0|      0.0|                N|     0.0|            75.0|        64.0|    48.0|624378|     344|\n",
      "+----------+--------+---------+------------+--------+---------+--------+----------+---------+-------+------------+--------+---------+---------+-----------------+--------+----------------+------------+--------+------+--------+\n"
     ]
    }
   ],
   "source": [
    "from pyspark.sql import SparkSession\n",
    "import math\n",
    "from pyspark.sql import functions as F\n",
    "from pyspark.ml import Transformer\n",
    "from pyspark.ml.param.shared import HasInputCol, HasOutputCols\n",
    "from pyspark.ml.util import DefaultParamsReadable, DefaultParamsWritable\n",
    "from pyspark.sql.types import DoubleType\n",
    "\n",
    "# Add here your team number teamx\n",
    "team = 37\n",
    "\n",
    "# location of your Hive database in HDFS\n",
    "warehouse = \"project/hive/warehouse\"\n",
    "\n",
    "spark = SparkSession.builder\\\n",
    "        .appName(\"{} - spark ML\".format(team))\\\n",
    "        .master(\"yarn\")\\\n",
    "        .config(\"hive.metastore.uris\", \"thrift://hadoop-02.uni.innopolis.ru:9883\")\\\n",
    "        .config(\"spark.sql.warehouse.dir\", warehouse)\\\n",
    "        .config(\"spark.sql.avro.compression.codec\", \"snappy\")\\\n",
    "        .enableHiveSupport()\\\n",
    "        .getOrCreate()\n",
    "\n",
    "spark.sql(\"SHOW DATABASES\").show()\n",
    "spark.sql(\"USE team37_projectdb\").show()\n",
    "spark.sql(\"SHOW TABLES\").show()\n",
    "spark.sql(\"SELECT * FROM team37_projectdb.flight_data_bucketed LIMIT 10\").show()"
   ],
   "metadata": {
    "collapsed": false
   },
   "id": "36bc7bab86c6195d"
  },
  {
   "cell_type": "code",
   "execution_count": 4,
   "outputs": [
    {
     "data": {
      "text/plain": [
       "[Row(fl_date='2021-06-08', dot_code=19393, fl_number=5448, crs_dep_time=1100, dep_time=1120.0, dep_delay=20.0, taxi_out=12.0, wheels_off=1132.0, wheels_on=1153.0, taxi_in=3.0, crs_arr_time=1145, arr_time=1156.0, arr_delay=11.0, cancelled=0.0, cancellation_code='N', diverted=0.0, crs_elapsed_time=105.0, elapsed_time=96.0, air_time=81.0, id=624813, route_id=407),\n",
       " Row(fl_date='2021-06-08', dot_code=19393, fl_number=2427, crs_dep_time=1705, dep_time=1703.0, dep_delay=-2.0, taxi_out=9.0, wheels_off=1712.0, wheels_on=1732.0, taxi_in=4.0, crs_arr_time=1750, arr_time=1736.0, arr_delay=-14.0, cancelled=0.0, cancellation_code='N', diverted=0.0, crs_elapsed_time=105.0, elapsed_time=93.0, air_time=80.0, id=624810, route_id=407),\n",
       " Row(fl_date='2021-06-08', dot_code=19393, fl_number=2387, crs_dep_time=1130, dep_time=1127.0, dep_delay=-3.0, taxi_out=14.0, wheels_off=1141.0, wheels_on=1305.0, taxi_in=5.0, crs_arr_time=1315, arr_time=1310.0, arr_delay=-5.0, cancelled=0.0, cancellation_code='N', diverted=0.0, crs_elapsed_time=165.0, elapsed_time=163.0, air_time=144.0, id=624735, route_id=963),\n",
       " Row(fl_date='2021-06-08', dot_code=19393, fl_number=3751, crs_dep_time=635, dep_time=635.0, dep_delay=0.0, taxi_out=11.0, wheels_off=646.0, wheels_on=1031.0, taxi_in=5.0, crs_arr_time=1040, arr_time=1036.0, arr_delay=-4.0, cancelled=0.0, cancellation_code='N', diverted=0.0, crs_elapsed_time=185.0, elapsed_time=181.0, air_time=165.0, id=624590, route_id=1206),\n",
       " Row(fl_date='2021-06-08', dot_code=19393, fl_number=5537, crs_dep_time=615, dep_time=616.0, dep_delay=1.0, taxi_out=6.0, wheels_off=622.0, wheels_on=811.0, taxi_in=7.0, crs_arr_time=830, arr_time=818.0, arr_delay=-12.0, cancelled=0.0, cancellation_code='N', diverted=0.0, crs_elapsed_time=255.0, elapsed_time=242.0, air_time=229.0, id=624587, route_id=362)]"
      ]
     },
     "execution_count": 4,
     "metadata": {},
     "output_type": "execute_result"
    }
   ],
   "source": [
    "flights = spark.read.format(\"avro\").table('team37_projectdb.flight_data_bucketed')\n",
    "flights.head(5)"
   ],
   "metadata": {
    "collapsed": false
   },
   "id": "1d4357d8f6be9f9"
  },
  {
   "cell_type": "code",
   "execution_count": 5,
   "outputs": [
    {
     "data": {
      "text/plain": [
       "[Row(dest='LAS', origin_city='Albuquerque, NM', dest_city='Las Vegas, NV', route_id=11, most_common_distance=486.0, origin='ABQ'),\n",
       " Row(dest='PHX', origin_city='Albuquerque, NM', dest_city='Phoenix, AZ', route_id=17, most_common_distance=328.0, origin='ABQ'),\n",
       " Row(dest='MDW', origin_city='Albuquerque, NM', dest_city='Chicago, IL', route_id=18, most_common_distance=1121.0, origin='ABQ'),\n",
       " Row(dest='HOU', origin_city='Albuquerque, NM', dest_city='Houston, TX', route_id=19, most_common_distance=759.0, origin='ABQ'),\n",
       " Row(dest='DEN', origin_city='Albuquerque, NM', dest_city='Denver, CO', route_id=20, most_common_distance=349.0, origin='ABQ')]"
      ]
     },
     "execution_count": 5,
     "metadata": {},
     "output_type": "execute_result"
    }
   ],
   "source": [
    "routes = spark.read.format(\"avro\").table('team37_projectdb.route_data_partitioned')\n",
    "routes.head(5)"
   ],
   "metadata": {
    "collapsed": false
   },
   "id": "cf3b22dbcd756d78"
  },
  {
   "cell_type": "code",
   "execution_count": 6,
   "outputs": [
    {
     "data": {
      "text/plain": [
       "[Row(airport_name='ABQ', origin_latitude=35.04022216796875, origin_longitude=-106.60919189453125),\n",
       " Row(airport_name='ANC', origin_latitude=61.174320220947266, origin_longitude=-149.99618530273438),\n",
       " Row(airport_name='ATL', origin_latitude=33.640445709228516, origin_longitude=-84.42694091796875),\n",
       " Row(airport_name='AUS', origin_latitude=30.19453239440918, origin_longitude=-97.66986846923828),\n",
       " Row(airport_name='BDL', origin_latitude=41.938873291015625, origin_longitude=-72.6832275390625)]"
      ]
     },
     "execution_count": 6,
     "metadata": {},
     "output_type": "execute_result"
    }
   ],
   "source": [
    "airports = spark.read.format(\"avro\").table('team37_projectdb.airports_data_load').withColumnRenamed(\"latitude\", \"origin_latitude\").withColumnRenamed(\"longitude\", \"origin_longitude\")\n",
    "airports.head(5)"
   ],
   "metadata": {
    "collapsed": false
   },
   "id": "8075d5cbe6470302"
  },
  {
   "cell_type": "code",
   "execution_count": 7,
   "outputs": [
    {
     "data": {
      "text/plain": [
       "[Row(dest_airport_name='ABQ', dest_latitude=35.04022216796875, dest_longitude=-106.60919189453125),\n",
       " Row(dest_airport_name='ANC', dest_latitude=61.174320220947266, dest_longitude=-149.99618530273438),\n",
       " Row(dest_airport_name='ATL', dest_latitude=33.640445709228516, dest_longitude=-84.42694091796875),\n",
       " Row(dest_airport_name='AUS', dest_latitude=30.19453239440918, dest_longitude=-97.66986846923828),\n",
       " Row(dest_airport_name='BDL', dest_latitude=41.938873291015625, dest_longitude=-72.6832275390625)]"
      ]
     },
     "execution_count": 7,
     "metadata": {},
     "output_type": "execute_result"
    }
   ],
   "source": [
    "airports1 = spark.read.format(\"avro\").table('team37_projectdb.airports_data_load').withColumnRenamed(\"latitude\", \"dest_latitude\").withColumnRenamed(\"longitude\", \"dest_longitude\").withColumnRenamed(\"airport_name\", \"dest_airport_name\")\n",
    "airports1.head(5)"
   ],
   "metadata": {
    "collapsed": false
   },
   "id": "1f2f38c7e6457cc1"
  },
  {
   "cell_type": "markdown",
   "source": [
    "### Integrate data into one table. For origin and destination airports connect physical metadata"
   ],
   "metadata": {
    "collapsed": false
   },
   "id": "de0f540f114b8be8"
  },
  {
   "cell_type": "code",
   "execution_count": 8,
   "outputs": [
    {
     "data": {
      "text/plain": [
       "Row(route_id=407, fl_date='2021-06-08', dot_code=19393, fl_number=5448, crs_dep_time=1100, dep_time=1120.0, dep_delay=20.0, taxi_out=12.0, wheels_off=1132.0, wheels_on=1153.0, taxi_in=3.0, crs_arr_time=1145, arr_time=1156.0, arr_delay=11.0, cancelled=0.0, cancellation_code='N', diverted=0.0, crs_elapsed_time=105.0, elapsed_time=96.0, air_time=81.0, id=624813, dest='MSY', origin_city='Orlando, FL', dest_city='New Orleans, LA', most_common_distance=551.0, origin='MCO', dest_airport_name='MSY', dest_latitude=29.993389129638672, dest_longitude=-90.25802612304688, airport_name='MCO', origin_latitude=28.42888832092285, origin_longitude=-81.31602478027344)"
      ]
     },
     "execution_count": 8,
     "metadata": {},
     "output_type": "execute_result"
    }
   ],
   "source": [
    "df = flights.join(routes, on='route_id', how='inner')\n",
    "df = df.join(airports1, df.dest == airports1.dest_airport_name, how='inner')\n",
    "df = df.join(airports, df.origin == airports.airport_name, how='inner')\n",
    "df.head()"
   ],
   "metadata": {
    "collapsed": false
   },
   "id": "81e7b536b5184889"
  },
  {
   "cell_type": "markdown",
   "source": [
    "## Format data\n",
    "First and most important thing - transformate date with saving it's iterative natures. I have used this formul for month:\n",
    "month=sin(2∗pi∗month/12)\n",
    "For day: day=sin(2∗pi∗month/31)\n",
    "And didn't use same for year, due to only 2021-2023 in dataset and no iterative nature in years.\n",
    "Also, later I will use same thing for hours"
   ],
   "metadata": {
    "collapsed": false
   },
   "id": "32af72eb4d1e8477"
  },
  {
   "cell_type": "code",
   "execution_count": 9,
   "outputs": [],
   "source": [
    "class Encoder(Transformer, HasInputCol, HasOutputCols,\n",
    "              DefaultParamsReadable, DefaultParamsWritable):\n",
    "    def __init__(self, inputCol, outputCols, n):\n",
    "        super(Encoder, self).__init__()\n",
    "        self._set(inputCol=inputCol, outputCols=outputCols)\n",
    "        self.n = n\n",
    "\n",
    "    def _transform(self, dataset):\n",
    "        input_col = self.getInputCol()\n",
    "        output_cols = self.getOutputCols()\n",
    "        dataset = dataset.withColumn(output_cols[0],\n",
    "                                     F.sin(2 * math.pi*F.col(input_col) / self.n))\n",
    "        return dataset\n",
    "\n",
    "\n",
    "df = df.withColumn(\"year\", F.year(\"fl_date\"))\n",
    "df = df.withColumn(\"month\", F.month(\"fl_date\"))\n",
    "df = df.withColumn(\"day\", F.dayofmonth(\"fl_date\"))\n",
    "df = Encoder(\"month\", [\"month\"], 12).transform(df)\n",
    "df = Encoder(\"day\", [\"day\"], 31).transform(df)"
   ],
   "metadata": {
    "collapsed": false
   },
   "id": "cf819d18f02b16cd"
  },
  {
   "cell_type": "code",
   "execution_count": 13,
   "outputs": [
    {
     "data": {
      "text/plain": [
       "['fl_number',\n",
       " 'crs_dep_time',\n",
       " 'dep_time',\n",
       " 'dep_delay',\n",
       " 'taxi_out',\n",
       " 'wheels_off',\n",
       " 'wheels_on',\n",
       " 'taxi_in',\n",
       " 'crs_arr_time',\n",
       " 'arr_time',\n",
       " 'arr_delay',\n",
       " 'cancelled',\n",
       " 'cancellation_code',\n",
       " 'diverted',\n",
       " 'crs_elapsed_time',\n",
       " 'elapsed_time',\n",
       " 'air_time',\n",
       " 'id',\n",
       " 'year',\n",
       " 'month',\n",
       " 'day',\n",
       " 'airport_name',\n",
       " 'dest_latitude',\n",
       " 'dest_longitude',\n",
       " 'origin_latitude',\n",
       " 'origin_longitude']"
      ]
     },
     "execution_count": 13,
     "metadata": {},
     "output_type": "execute_result"
    }
   ],
   "source": [
    "features = ['crs_dep_time', 'dep_time', 'dep_delay', \n",
    "            'taxi_out', 'wheels_off', 'wheels_on', 'taxi_in', 'crs_arr_time', 'arr_time', 'arr_delay', 'cancelled',\n",
    "            'cancellation_code', 'diverted', 'crs_elapsed_time', 'elapsed_time', 'air_time','id', 'year', 'month', 'day', 'airport_name', 'dest_latitude', 'dest_longitude', 'origin_latitude', 'origin_longitude']\n",
    "\n",
    "features"
   ],
   "metadata": {
    "collapsed": false
   },
   "id": "14b805077082ee6a"
  },
  {
   "cell_type": "markdown",
   "source": [
    "### Also, here was generated new variable: delta_minutes, calculated difference between scheduled start and arrival"
   ],
   "metadata": {
    "collapsed": false
   },
   "id": "d22e8fb26a4722dd"
  },
  {
   "cell_type": "code",
   "execution_count": 25,
   "outputs": [
    {
     "data": {
      "text/plain": [
       "[Row(route_id=407, fl_date='2021-06-08', dot_code=19393, fl_number=5448, crs_dep_time=1100, dep_time=1120.0, dep_delay=20.0, taxi_out=12.0, wheels_off=1132.0, wheels_on=1153.0, taxi_in=3.0, crs_arr_time=1145, arr_time=1156.0, arr_delay=11.0, cancelled=0.0, cancellation_code='N', diverted=0.0, crs_elapsed_time=105.0, elapsed_time=96.0, air_time=81.0, id=624813, dest='MSY', origin_city='Orlando, FL', dest_city='New Orleans, LA', most_common_distance=551.0, origin='MCO', dest_airport_name='MSY', dest_latitude=29.993389129638672, dest_longitude=-90.25802612304688, airport_name='MCO', origin_latitude=28.42888832092285, origin_longitude=-81.31602478027344, year=2021, month=1.2246467991473532e-16, day=0.9987165071710528, crs_dep_time_hours=0.258819045102521, dep_time_hours=0.258819045102521, wheels_off_hours=0.258819045102521, wheels_on_hours=0.258819045102521, crs_arr_time_hours=0.258819045102521, arr_time_hours=0.258819045102521),\n",
       " Row(route_id=407, fl_date='2021-06-08', dot_code=19393, fl_number=2427, crs_dep_time=1705, dep_time=1703.0, dep_delay=-2.0, taxi_out=9.0, wheels_off=1712.0, wheels_on=1732.0, taxi_in=4.0, crs_arr_time=1750, arr_time=1736.0, arr_delay=-14.0, cancelled=0.0, cancellation_code='N', diverted=0.0, crs_elapsed_time=105.0, elapsed_time=93.0, air_time=80.0, id=624810, dest='MSY', origin_city='Orlando, FL', dest_city='New Orleans, LA', most_common_distance=551.0, origin='MCO', dest_airport_name='MSY', dest_latitude=29.993389129638672, dest_longitude=-90.25802612304688, airport_name='MCO', origin_latitude=28.42888832092285, origin_longitude=-81.31602478027344, year=2021, month=1.2246467991473532e-16, day=0.9987165071710528, crs_dep_time_hours=-0.9659258262890683, dep_time_hours=-0.9659258262890683, wheels_off_hours=-0.9659258262890683, wheels_on_hours=-0.9659258262890683, crs_arr_time_hours=-0.9659258262890683, arr_time_hours=-0.9659258262890683),\n",
       " Row(route_id=963, fl_date='2021-06-08', dot_code=19393, fl_number=2387, crs_dep_time=1130, dep_time=1127.0, dep_delay=-3.0, taxi_out=14.0, wheels_off=1141.0, wheels_on=1305.0, taxi_in=5.0, crs_arr_time=1315, arr_time=1310.0, arr_delay=-5.0, cancelled=0.0, cancellation_code='N', diverted=0.0, crs_elapsed_time=165.0, elapsed_time=163.0, air_time=144.0, id=624735, dest='MCI', origin_city='Orlando, FL', dest_city='Kansas City, MO', most_common_distance=1072.0, origin='MCO', dest_airport_name='MCI', dest_latitude=39.297603607177734, dest_longitude=-94.71390533447266, airport_name='MCO', origin_latitude=28.42888832092285, origin_longitude=-81.31602478027344, year=2021, month=1.2246467991473532e-16, day=0.9987165071710528, crs_dep_time_hours=0.258819045102521, dep_time_hours=0.258819045102521, wheels_off_hours=0.258819045102521, wheels_on_hours=-0.2588190451025208, crs_arr_time_hours=-0.2588190451025208, arr_time_hours=-0.2588190451025208),\n",
       " Row(route_id=1206, fl_date='2021-06-08', dot_code=19393, fl_number=3751, crs_dep_time=635, dep_time=635.0, dep_delay=0.0, taxi_out=11.0, wheels_off=646.0, wheels_on=1031.0, taxi_in=5.0, crs_arr_time=1040, arr_time=1036.0, arr_delay=-4.0, cancelled=0.0, cancellation_code='N', diverted=0.0, crs_elapsed_time=185.0, elapsed_time=181.0, air_time=165.0, id=624590, dest='MCO', origin_city='Minneapolis, MN', dest_city='Orlando, FL', most_common_distance=1310.0, origin='MSP', dest_airport_name='MCO', dest_latitude=28.42888832092285, dest_longitude=-81.31602478027344, airport_name='MSP', origin_latitude=44.88054656982422, origin_longitude=-93.2169189453125, year=2021, month=1.2246467991473532e-16, day=0.9987165071710528, crs_dep_time_hours=1.0, dep_time_hours=1.0, wheels_off_hours=1.0, wheels_on_hours=0.49999999999999994, crs_arr_time_hours=0.49999999999999994, arr_time_hours=0.49999999999999994),\n",
       " Row(route_id=362, fl_date='2021-06-08', dot_code=19393, fl_number=5537, crs_dep_time=615, dep_time=616.0, dep_delay=1.0, taxi_out=6.0, wheels_off=622.0, wheels_on=811.0, taxi_in=7.0, crs_arr_time=830, arr_time=818.0, arr_delay=-12.0, cancelled=0.0, cancellation_code='N', diverted=0.0, crs_elapsed_time=255.0, elapsed_time=242.0, air_time=229.0, id=624587, dest='LAX', origin_city='Chicago, IL', dest_city='Los Angeles, CA', most_common_distance=1750.0, origin='MDW', dest_airport_name='LAX', dest_latitude=33.942535400390625, dest_longitude=-118.40807342529297, airport_name='MDW', origin_latitude=41.78598403930664, origin_longitude=-87.75242614746094, year=2021, month=1.2246467991473532e-16, day=0.9987165071710528, crs_dep_time_hours=1.0, dep_time_hours=1.0, wheels_off_hours=1.0, wheels_on_hours=0.8660254037844387, crs_arr_time_hours=0.8660254037844387, arr_time_hours=0.8660254037844387)]"
      ]
     },
     "execution_count": 25,
     "metadata": {},
     "output_type": "execute_result"
    }
   ],
   "source": [
    "from pyspark.sql.functions import col, floor, abs\n",
    "def split_time(column_name):\n",
    "    hours = floor(col(column_name) / 100).alias(f\"{column_name}_hours\")\n",
    "    return hours\n",
    "\n",
    "time_columns = [\"crs_dep_time\", \"dep_time\", \"wheels_off\", \"wheels_on\", \"crs_arr_time\", \"arr_time\"]\n",
    "for col_name in time_columns:\n",
    "    hours, minutes = split_time(col_name)\n",
    "    df = df.withColumn(f\"{col_name}_hours\", hours)\n",
    "    df = df.withColumn(f\"{col_name}_minutes\", minutes)\n",
    "df = df.withColumn(\"delta_minutes\", (col(\"crs_arr_time_hours\") * 60 + col(\"crs_arr_time_minutes\") - col(\"crs_dep_time_hours\") * 60 - col(\"crs_dep_time_minutes\")))\n",
    "df = Encoder(\"crs_dep_time_hours\", [\"crs_dep_time_hours\"], 24).transform(df)\n",
    "df = Encoder(\"dep_time_hours\", [\"dep_time_hours\"], 24).transform(df)\n",
    "df = Encoder(\"wheels_off_hours\", [\"wheels_off_hours\"], 24).transform(df)\n",
    "df = Encoder(\"wheels_on_hours\", [\"wheels_on_hours\"], 24).transform(df)\n",
    "df = Encoder(\"crs_arr_time_hours\", [\"crs_arr_time_hours\"], 24).transform(df)\n",
    "df = Encoder(\"arr_time_hours\", [\"arr_time_hours\"], 24).transform(df)\n",
    "df.head(5)"
   ],
   "metadata": {
    "collapsed": false
   },
   "id": "e7cf3b646da2ece1"
  },
  {
   "cell_type": "code",
   "execution_count": 26,
   "outputs": [
    {
     "data": {
      "text/plain": [
       "[Row(route_id=407, fl_date='2021-06-08', dot_code=19393, fl_number=5448, crs_dep_time=1100, dep_time=1120.0, dep_delay=20.0, taxi_out=12.0, wheels_off=1132.0, wheels_on=1153.0, taxi_in=3.0, crs_arr_time=1145, arr_time=1156.0, arr_delay=11.0, cancelled=0.0, cancellation_code='N', diverted=0.0, crs_elapsed_time=105.0, elapsed_time=96.0, air_time=81.0, id=624813, dest='MSY', origin_city='Orlando, FL', dest_city='New Orleans, LA', most_common_distance=551.0, origin='MCO', dest_airport_name='MSY', dest_latitude=29.993389129638672, dest_longitude=-90.25802612304688, airport_name='MCO', origin_latitude=28.42888832092285, origin_longitude=-81.31602478027344, year=2021, month=1.2246467991473532e-16, day=0.9987165071710528, crs_dep_time_hours=0.258819045102521, dep_time_hours=0.258819045102521, wheels_off_hours=0.258819045102521, wheels_on_hours=0.258819045102521, crs_arr_time_hours=0.258819045102521, arr_time_hours=0.258819045102521)]"
      ]
     },
     "execution_count": 26,
     "metadata": {},
     "output_type": "execute_result"
    }
   ],
   "source": [
    "df.head(1)"
   ],
   "metadata": {
    "collapsed": false
   },
   "id": "caf76c4db20e0f50"
  },
  {
   "cell_type": "code",
   "execution_count": 29,
   "outputs": [
    {
     "data": {
      "text/plain": [
       "['taxi_out',\n",
       " 'taxi_in',\n",
       " 'arr_delay',\n",
       " 'diverted',\n",
       " 'crs_elapsed_time',\n",
       " 'elapsed_time',\n",
       " 'air_time',\n",
       " 'year',\n",
       " 'month',\n",
       " 'day',\n",
       " 'airport_name',\n",
       " 'dest_latitude',\n",
       " 'dest_longitude',\n",
       " 'origin_latitude',\n",
       " 'origin_longitude',\n",
       " 'crs_dep_time_hours',\n",
       " 'dep_time_hours',\n",
       " 'wheels_off_hours',\n",
       " 'wheels_on_hours',\n",
       " 'crs_arr_time_hours',\n",
       " 'arr_time_hours']"
      ]
     },
     "execution_count": 29,
     "metadata": {},
     "output_type": "execute_result"
    }
   ],
   "source": [
    "features = ['taxi_out', 'taxi_in', 'arr_delay', 'diverted', 'crs_elapsed_time', 'elapsed_time', 'air_time', 'year', 'month', 'day', 'airport_name', 'dest_latitude', 'dest_longitude', 'origin_latitude', 'origin_longitude', 'crs_dep_time_hours',\n",
    "            'dep_time_hours', 'wheels_off_hours', 'wheels_on_hours', 'crs_arr_time_hours', 'arr_time_hours']\n",
    "\n",
    "features"
   ],
   "metadata": {
    "collapsed": false
   },
   "id": "39f02580e7af8c70"
  },
  {
   "cell_type": "code",
   "execution_count": 49,
   "outputs": [
    {
     "data": {
      "text/plain": [
       "[Row(taxi_out=12.0, taxi_in=3.0, label=11.0, diverted=0.0, crs_elapsed_time=105.0, elapsed_time=96.0, air_time=81.0, year=2021, month=1.2246467991473532e-16, day=0.9987165071710528, airport_name='MCO', dest_latitude=29.993389129638672, dest_longitude=-90.25802612304688, origin_latitude=28.42888832092285, origin_longitude=-81.31602478027344, crs_dep_time_hours=0.258819045102521, dep_time_hours=0.258819045102521, wheels_off_hours=0.258819045102521, wheels_on_hours=0.258819045102521, crs_arr_time_hours=0.258819045102521, arr_time_hours=0.258819045102521)]"
      ]
     },
     "execution_count": 49,
     "metadata": {},
     "output_type": "execute_result"
    }
   ],
   "source": [
    "df_filtered = df.select(*features)\n",
    "df_filtered = df_filtered.withColumnRenamed(\"arr_delay\",\"label\")\n",
    "df_filtered.head(1)"
   ],
   "metadata": {
    "collapsed": false
   },
   "id": "cb586adeb1c80ef"
  },
  {
   "cell_type": "markdown",
   "source": [
    "## Data formatting\n",
    "Use encoding of original airports and scaling of all features. Also choose features, that was choosed in previous part of data preparation. And was added new variables."
   ],
   "metadata": {
    "collapsed": false
   },
   "id": "ac6439e8f74b8553"
  },
  {
   "cell_type": "code",
   "execution_count": 95,
   "outputs": [
    {
     "data": {
      "text/plain": [
       "[Row(label=11.0, scaledFeatures=DenseVector([-0.2679, -0.244, -0.2426, -0.2296, -0.2285, -0.223, -0.1974, -0.1868, 5.5993, -0.169, -0.1638, -0.1612, -0.1558, -0.1539, -0.1512, -0.1498, -0.143, -0.1375, -0.1212, -0.12, -0.116, -0.1154, -0.1132, -0.1023, -0.1014, -0.0999, -0.0975, -0.0934, -0.0902, -0.089, -0.0888, -0.086, -0.0853, -0.0819, -0.0814, -0.0813, -0.0802, -0.0802, -0.0798, -0.0784, -0.0768, -0.0746, -0.0742, -0.0732, -0.0729, -0.0726, -0.068, -0.0673, -0.0663, -0.0649, -0.0602, -0.0592, -0.0584, -0.0583, -0.058, -0.0574, -0.0573, -0.057, -0.0569, -0.0562, -0.0555, -0.0545, -0.0536, -0.0536, -0.0529, -0.0525, -0.0511, -0.051, -0.051, -0.0504, -0.0494, -0.0476, -0.0475, -0.0471, -0.0467, -0.0456, -0.0455, -0.045, -0.0423, -0.0423, -0.0419, -0.0418, -0.0412, -0.0403, -0.0394, -0.0391, -0.0391, -0.0384, -0.038, -0.0365, -0.0364, -0.0361, -0.0347, -0.0343, -0.0339, -0.0329, -0.0327, -0.0326, -0.0325, -0.0309, -0.0298, -0.0291, -0.024, -0.0239, -0.0238, -0.4096, -1.1398, -0.1123, 1.3921, -1.0705, 0.5206, -1.3724, 1.027, 0.442, 0.7807])),\n",
       " Row(label=-14.0, scaledFeatures=DenseVector([-0.2679, -0.244, -0.2426, -0.2296, -0.2285, -0.223, -0.1974, -0.1868, 5.5993, -0.169, -0.1638, -0.1612, -0.1558, -0.1539, -0.1512, -0.1498, -0.143, -0.1375, -0.1212, -0.12, -0.116, -0.1154, -0.1132, -0.1023, -0.1014, -0.0999, -0.0975, -0.0934, -0.0902, -0.089, -0.0888, -0.086, -0.0853, -0.0819, -0.0814, -0.0813, -0.0802, -0.0802, -0.0798, -0.0784, -0.0768, -0.0746, -0.0742, -0.0732, -0.0729, -0.0726, -0.068, -0.0673, -0.0663, -0.0649, -0.0602, -0.0592, -0.0584, -0.0583, -0.058, -0.0574, -0.0573, -0.057, -0.0569, -0.0562, -0.0555, -0.0545, -0.0536, -0.0536, -0.0529, -0.0525, -0.0511, -0.051, -0.051, -0.0504, -0.0494, -0.0476, -0.0475, -0.0471, -0.0467, -0.0456, -0.0455, -0.045, -0.0423, -0.0423, -0.0419, -0.0418, -0.0412, -0.0403, -0.0394, -0.0391, -0.0391, -0.0384, -0.038, -0.0365, -0.0364, -0.0361, -0.0347, -0.0343, -0.0339, -0.0329, -0.0327, -0.0326, -0.0325, -0.0309, -0.0298, -0.0291, -0.024, -0.0239, -0.0238, -0.4096, -1.1398, -0.1123, 1.3921, -1.0705, 0.5206, -1.3724, 1.027, -1.1635, -1.0782])),\n",
       " Row(label=-5.0, scaledFeatures=DenseVector([-0.2679, -0.244, -0.2426, -0.2296, -0.2285, -0.223, -0.1974, -0.1868, 5.5993, -0.169, -0.1638, -0.1612, -0.1558, -0.1539, -0.1512, -0.1498, -0.143, -0.1375, -0.1212, -0.12, -0.116, -0.1154, -0.1132, -0.1023, -0.1014, -0.0999, -0.0975, -0.0934, -0.0902, -0.089, -0.0888, -0.086, -0.0853, -0.0819, -0.0814, -0.0813, -0.0802, -0.0802, -0.0798, -0.0784, -0.0768, -0.0746, -0.0742, -0.0732, -0.0729, -0.0726, -0.068, -0.0673, -0.0663, -0.0649, -0.0602, -0.0592, -0.0584, -0.0583, -0.058, -0.0574, -0.0573, -0.057, -0.0569, -0.0562, -0.0555, -0.0545, -0.0536, -0.0536, -0.0529, -0.0525, -0.0511, -0.051, -0.051, -0.0504, -0.0494, -0.0476, -0.0475, -0.0471, -0.0467, -0.0456, -0.0455, -0.045, -0.0423, -0.0423, -0.0419, -0.0418, -0.0412, -0.0403, -0.0394, -0.0391, -0.0391, -0.0384, -0.038, -0.0365, -0.0364, -0.0361, -0.0347, -0.0343, -0.0339, -0.0329, -0.0327, -0.0326, -0.0325, -0.0309, -0.0298, -0.0291, -0.024, -0.0239, -0.0238, 0.6447, -1.1398, -0.1123, 1.3921, 0.7267, 0.2684, -1.3724, 1.027, 0.442, -0.005])),\n",
       " Row(label=-4.0, scaledFeatures=DenseVector([-0.2679, -0.244, -0.2426, -0.2296, -0.2285, -0.223, -0.1974, -0.1868, -0.1786, -0.169, -0.1638, -0.1612, -0.1558, -0.1539, -0.1512, -0.1498, -0.143, -0.1375, -0.1212, -0.12, -0.116, -0.1154, -0.1132, -0.1023, -0.1014, -0.0999, -0.0975, -0.0934, -0.0902, -0.089, -0.0888, -0.086, -0.0853, -0.0819, -0.0814, -0.0813, -0.0802, -0.0802, -0.0798, -0.0784, -0.0768, -0.0746, -0.0742, -0.0732, -0.0729, -0.0726, -0.068, 14.849, -0.0663, -0.0649, -0.0602, -0.0592, -0.0584, -0.0583, -0.058, -0.0574, -0.0573, -0.057, -0.0569, -0.0562, -0.0555, -0.0545, -0.0536, -0.0536, -0.0529, -0.0525, -0.0511, -0.051, -0.051, -0.0504, -0.0494, -0.0476, -0.0475, -0.0471, -0.0467, -0.0456, -0.0455, -0.045, -0.0423, -0.0423, -0.0419, -0.0418, -0.0412, -0.0403, -0.0394, -0.0391, -0.0391, -0.0384, -0.038, -0.0365, -0.0364, -0.0361, -0.0347, -0.0343, -0.0339, -0.0329, -0.0327, -0.0326, -0.0325, -0.0309, -0.0298, -0.0291, -0.024, -0.0239, -0.0238, 0.9961, -1.1398, -0.1123, 1.3921, -1.3727, 1.0268, 1.8058, 0.3531, 1.4137, 1.1467])),\n",
       " Row(label=-12.0, scaledFeatures=DenseVector([-0.2679, -0.244, 4.1218, -0.2296, -0.2285, -0.223, -0.1974, -0.1868, -0.1786, -0.169, -0.1638, -0.1612, -0.1558, -0.1539, -0.1512, -0.1498, -0.143, -0.1375, -0.1212, -0.12, -0.116, -0.1154, -0.1132, -0.1023, -0.1014, -0.0999, -0.0975, -0.0934, -0.0902, -0.089, -0.0888, -0.086, -0.0853, -0.0819, -0.0814, -0.0813, -0.0802, -0.0802, -0.0798, -0.0784, -0.0768, -0.0746, -0.0742, -0.0732, -0.0729, -0.0726, -0.068, -0.0673, -0.0663, -0.0649, -0.0602, -0.0592, -0.0584, -0.0583, -0.058, -0.0574, -0.0573, -0.057, -0.0569, -0.0562, -0.0555, -0.0545, -0.0536, -0.0536, -0.0529, -0.0525, -0.0511, -0.051, -0.051, -0.0504, -0.0494, -0.0476, -0.0475, -0.0471, -0.0467, -0.0456, -0.0455, -0.045, -0.0423, -0.0423, -0.0419, -0.0418, -0.0412, -0.0403, -0.0394, -0.0391, -0.0391, -0.0384, -0.038, -0.0365, -0.0364, -0.0361, -0.0347, -0.0343, -0.0339, -0.0329, -0.0327, -0.0326, -0.0325, -0.0309, -0.0298, -0.0291, -0.024, -0.0239, -0.0238, 2.2261, -1.1398, -0.1123, 1.3921, -0.3077, -1.073, 1.208, 0.6626, 1.4137, 1.7023]))]"
      ]
     },
     "execution_count": 95,
     "metadata": {},
     "output_type": "execute_result"
    }
   ],
   "source": [
    "from pyspark.ml import Pipeline\n",
    "from pyspark.ml.feature import StringIndexer, OneHotEncoder, VectorAssembler,StandardScaler, Word2Vec, Tokenizer, RegexTokenizer\n",
    "from pyspark.sql.functions import col\n",
    "\n",
    "categoricalCols = ['airport_name']\n",
    "others = ['crs_elapsed_time', 'year', 'month', 'day', 'dest_latitude', 'dest_longitude', 'origin_latitude', 'origin_longitude', 'crs_dep_time_hours', 'crs_arr_time_hours']\n",
    "\n",
    "# StringIndexer for categorical columns\n",
    "indexers = [ StringIndexer(inputCol=c, outputCol=\"{0}_indexed\".format(c)).setHandleInvalid(\"skip\") for c in categoricalCols ]\n",
    "\n",
    "# OneHotEncoder for indexed categorical columns\n",
    "encoders = [ OneHotEncoder(inputCol=indexer.getOutputCol(), outputCol=\"{0}_encoded\".format(indexer.getOutputCol())) for indexer in indexers ]\n",
    "\n",
    "# VectorAssembler to combine all features into a single vector\n",
    "assembler = VectorAssembler(inputCols=[encoder.getOutputCol() for encoder in encoders] + others, outputCol=\"features\")\n",
    "\n",
    "# StandardScaler to scale the features\n",
    "scaler = StandardScaler(inputCol=\"features\", outputCol=\"scaledFeatures\", withStd=True, withMean=True)\n",
    "\n",
    "# Create the pipeline with all stages\n",
    "pipeline = Pipeline(stages=indexers + encoders + [assembler, scaler])\n",
    "\n",
    "# Fit the pipeline to the data\n",
    "model = pipeline.fit(df_filtered)\n",
    "\n",
    "# Transform the data\n",
    "data = model.transform(df_filtered)\n",
    "data.select('label', 'scaledFeatures').head(5)"
   ],
   "metadata": {
    "collapsed": false
   },
   "id": "3026d09ff84ebcd"
  }
 ],
 "metadata": {
  "kernelspec": {
   "display_name": "Python 3",
   "language": "python",
   "name": "python3"
  },
  "language_info": {
   "codemirror_mode": {
    "name": "ipython",
    "version": 2
   },
   "file_extension": ".py",
   "mimetype": "text/x-python",
   "name": "python",
   "nbconvert_exporter": "python",
   "pygments_lexer": "ipython2",
   "version": "2.7.6"
  }
 },
 "nbformat": 4,
 "nbformat_minor": 5
}
